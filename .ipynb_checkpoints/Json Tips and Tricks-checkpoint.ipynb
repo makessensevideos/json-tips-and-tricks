{
 "cells": [
  {
   "cell_type": "markdown",
   "id": "7fa49e4f",
   "metadata": {},
   "source": [
    "This piece of code reads a previously prepared json data from a file"
   ]
  },
  {
   "cell_type": "code",
   "execution_count": null,
   "id": "40eb49ad",
   "metadata": {
    "colab": {
     "base_uri": "https://localhost:8080/",
     "height": 183
    },
    "executionInfo": {
     "elapsed": 6,
     "status": "error",
     "timestamp": 1669389778111,
     "user": {
      "displayName": "Rik Boeykens",
      "userId": "05454811325414626458"
     },
     "user_tz": -60
    },
    "id": "40eb49ad",
    "outputId": "6be3653c-b874-4e50-ca79-6cf4c8acaf1e"
   },
   "outputs": [],
   "source": [
    "with open('example.json') as f:\n",
    "    file_text = f.read()"
   ]
  },
  {
   "cell_type": "markdown",
   "id": "7b10e801",
   "metadata": {},
   "source": [
    "Inspect the contents of file_text."
   ]
  },
  {
   "cell_type": "code",
   "execution_count": null,
   "id": "e3fd73b9",
   "metadata": {
    "executionInfo": {
     "elapsed": 4,
     "status": "aborted",
     "timestamp": 1669389778112,
     "user": {
      "displayName": "Rik Boeykens",
      "userId": "05454811325414626458"
     },
     "user_tz": -60
    },
    "id": "e3fd73b9"
   },
   "outputs": [],
   "source": []
  },
  {
   "cell_type": "markdown",
   "id": "36f336df",
   "metadata": {},
   "source": [
    "Which data type is it?"
   ]
  },
  {
   "cell_type": "code",
   "execution_count": null,
   "id": "273cc95d",
   "metadata": {},
   "outputs": [],
   "source": []
  },
  {
   "cell_type": "markdown",
   "id": "2585dd6d",
   "metadata": {},
   "source": [
    "Import json"
   ]
  },
  {
   "cell_type": "code",
   "execution_count": null,
   "id": "e83bc6da",
   "metadata": {},
   "outputs": [],
   "source": []
  },
  {
   "cell_type": "markdown",
   "id": "c0c784aa",
   "metadata": {
    "id": "c0c784aa"
   },
   "source": [
    "Load string into a json object"
   ]
  },
  {
   "cell_type": "code",
   "execution_count": null,
   "id": "e226a3ac",
   "metadata": {
    "colab": {
     "base_uri": "https://localhost:8080/"
    },
    "executionInfo": {
     "elapsed": 344,
     "status": "ok",
     "timestamp": 1669389815593,
     "user": {
      "displayName": "Rik Boeykens",
      "userId": "05454811325414626458"
     },
     "user_tz": -60
    },
    "id": "e226a3ac",
    "outputId": "d2cb6a3b-75f2-4b91-e4d4-3b82de1afaee"
   },
   "outputs": [],
   "source": []
  },
  {
   "cell_type": "markdown",
   "id": "e7d11384",
   "metadata": {},
   "source": [
    "Which data type is it now?"
   ]
  },
  {
   "cell_type": "code",
   "execution_count": null,
   "id": "419fdbeb",
   "metadata": {},
   "outputs": [],
   "source": []
  },
  {
   "cell_type": "markdown",
   "id": "16fd112f",
   "metadata": {
    "id": "16fd112f"
   },
   "source": [
    "Print it in a nicer way so you can inspect it"
   ]
  },
  {
   "cell_type": "code",
   "execution_count": null,
   "id": "3ffc8e6d",
   "metadata": {
    "id": "3ffc8e6d",
    "outputId": "dad2d338-9742-48d9-9bf3-57a690ddfa36"
   },
   "outputs": [],
   "source": []
  },
  {
   "cell_type": "markdown",
   "id": "6a0df3ae",
   "metadata": {
    "id": "6a0df3ae"
   },
   "source": [
    "Find the title of the movie"
   ]
  },
  {
   "cell_type": "code",
   "execution_count": null,
   "id": "7438e704",
   "metadata": {
    "id": "7438e704",
    "outputId": "0025aa2f-6a04-46b4-f62d-73bdf7e44733"
   },
   "outputs": [],
   "source": []
  },
  {
   "cell_type": "markdown",
   "id": "0e5d9c08",
   "metadata": {
    "id": "0e5d9c08"
   },
   "source": [
    "Find the release date of the movie"
   ]
  },
  {
   "cell_type": "code",
   "execution_count": null,
   "id": "2949618e",
   "metadata": {
    "id": "2949618e",
    "outputId": "b5d78e5b-fe08-4b9a-840b-ff78873e7392"
   },
   "outputs": [],
   "source": []
  },
  {
   "cell_type": "markdown",
   "id": "c9298f5e",
   "metadata": {
    "id": "c9298f5e"
   },
   "source": [
    "Show genres"
   ]
  },
  {
   "cell_type": "code",
   "execution_count": null,
   "id": "3a0c9ec1",
   "metadata": {
    "id": "3a0c9ec1",
    "outputId": "1a098c06-6b7a-4984-ea3e-db173670b888"
   },
   "outputs": [],
   "source": []
  },
  {
   "cell_type": "markdown",
   "id": "4ef77b98",
   "metadata": {},
   "source": [
    "Create a list of genre names"
   ]
  },
  {
   "cell_type": "code",
   "execution_count": null,
   "id": "a1ca1352",
   "metadata": {},
   "outputs": [],
   "source": []
  },
  {
   "cell_type": "markdown",
   "id": "306602e1",
   "metadata": {
    "id": "306602e1"
   },
   "source": [
    "Get first credited actor"
   ]
  },
  {
   "cell_type": "code",
   "execution_count": null,
   "id": "3b4dc019",
   "metadata": {
    "id": "3b4dc019"
   },
   "outputs": [],
   "source": []
  },
  {
   "cell_type": "code",
   "execution_count": null,
   "id": "bb083543",
   "metadata": {},
   "outputs": [],
   "source": []
  }
 ],
 "metadata": {
  "colab": {
   "provenance": []
  },
  "kernelspec": {
   "display_name": "Python 3 (ipykernel)",
   "language": "python",
   "name": "python3"
  },
  "language_info": {
   "codemirror_mode": {
    "name": "ipython",
    "version": 3
   },
   "file_extension": ".py",
   "mimetype": "text/x-python",
   "name": "python",
   "nbconvert_exporter": "python",
   "pygments_lexer": "ipython3",
   "version": "3.9.12"
  }
 },
 "nbformat": 4,
 "nbformat_minor": 5
}
